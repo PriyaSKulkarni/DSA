{
  "nbformat": 4,
  "nbformat_minor": 0,
  "metadata": {
    "colab": {
      "provenance": []
    },
    "kernelspec": {
      "name": "python3",
      "display_name": "Python 3"
    },
    "language_info": {
      "name": "python"
    }
  },
  "cells": [
    {
      "cell_type": "code",
      "execution_count": 45,
      "metadata": {
        "id": "chfsyd1Or_j8"
      },
      "outputs": [],
      "source": [
        "class  HashMap:\n",
        "  def __init__(self):\n",
        "    self.max = 10\n",
        "    self.arr = [[] for i in range(0,self.max)]\n",
        "\n",
        "  def HashFunction(self,key):\n",
        "    sum = 0\n",
        "    for i in key:\n",
        "      sum+=ord(i)\n",
        "    return sum % self.max\n",
        "\n",
        "  def __getitem__(self,key):\n",
        "    h = self.HashFunction(key)\n",
        "    for ele in self.arr[h]:\n",
        "      if ele[0] == key:\n",
        "        return ele[1]\n",
        "\n",
        "  def __setitem__(self,key,value):\n",
        "    h = self.HashFunction(key)\n",
        "    found = False\n",
        "    for i, ele in enumerate(self.arr[h]):\n",
        "      if len(ele) == 2 and ele[0] == key:\n",
        "        self.arr[h][i] = (key,value)\n",
        "        found = True\n",
        "        break\n",
        "    if not found:\n",
        "      self.arr[h].append((key,value))\n",
        "\n",
        "  def __delitem__(self,key):\n",
        "    h = self.HashFunction(key)\n",
        "    for i, ele in enumerate(self.arr[h]):\n",
        "      if ele[0] == key:\n",
        "        del self.arr[h][i]"
      ]
    },
    {
      "cell_type": "code",
      "source": [
        "t = HashMap()\n",
        "t[\"mar 3\"] = 30\n",
        "t['mar 4'] = 40\n",
        "t['mar 5'] = 50\n",
        "t['mar 12'] = 60\n",
        "t['march 6'] = 70\n",
        "t['march 17'] = 80"
      ],
      "metadata": {
        "id": "tqrzW__xsgWR"
      },
      "execution_count": 51,
      "outputs": []
    },
    {
      "cell_type": "code",
      "source": [
        "t['mar 5']"
      ],
      "metadata": {
        "colab": {
          "base_uri": "https://localhost:8080/"
        },
        "id": "rYKwGQEasnnP",
        "outputId": "51348fcf-0f49-4510-fc43-417140fcebd9"
      },
      "execution_count": 52,
      "outputs": [
        {
          "output_type": "execute_result",
          "data": {
            "text/plain": [
              "50"
            ]
          },
          "metadata": {},
          "execution_count": 52
        }
      ]
    },
    {
      "cell_type": "code",
      "source": [
        "del t[\"march 17\"]"
      ],
      "metadata": {
        "id": "bMGR1gScs_5q"
      },
      "execution_count": 55,
      "outputs": []
    },
    {
      "cell_type": "code",
      "source": [
        "t.arr"
      ],
      "metadata": {
        "colab": {
          "base_uri": "https://localhost:8080/"
        },
        "id": "_Jnea_kEtEGp",
        "outputId": "ccfe8aeb-8520-4707-931c-1d6dae5d1ce5"
      },
      "execution_count": 56,
      "outputs": [
        {
          "output_type": "execute_result",
          "data": {
            "text/plain": [
              "[[],\n",
              " [('mar 12', 60)],\n",
              " [],\n",
              " [],\n",
              " [('mar 4', 40)],\n",
              " [('mar 5', 50)],\n",
              " [],\n",
              " [],\n",
              " [],\n",
              " [('march 6', 70)]]"
            ]
          },
          "metadata": {},
          "execution_count": 56
        }
      ]
    },
    {
      "cell_type": "code",
      "source": [],
      "metadata": {
        "id": "FkGmApVHtFH2"
      },
      "execution_count": null,
      "outputs": []
    }
  ]
}